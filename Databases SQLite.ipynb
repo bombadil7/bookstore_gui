{
 "cells": [
  {
   "cell_type": "markdown",
   "metadata": {},
   "source": [
    "# Working with Databases SQLight and PostgreSQL\n",
    "\n",
    "SQlight is included in Python distributeion.  PostgreSQL not.  \n",
    "SQLight requires library **sqlite3**  \n",
    "PostgreSQL requires library **psycopg2**\n",
    "\n"
   ]
  },
  {
   "cell_type": "code",
   "execution_count": 7,
   "metadata": {},
   "outputs": [],
   "source": [
    "import sqlite3\n",
    "\n",
    "# Create a connection.  the database file either already exists, then\n",
    "# it will be open, or it will be created\n",
    "def create_table():\n",
    "    conn = sqlite3.connect(\"lite.db\")\n",
    "    cur = conn.cursor()\n",
    "    cur.execute(\"CREATE TABLE IF NOT EXISTS store\" # carry string to next line\n",
    "                \"(item TEXT, quantity INTEGER, price REAL)\")\n",
    "    conn.commit()\n",
    "    conn.close()"
   ]
  },
  {
   "cell_type": "markdown",
   "metadata": {},
   "source": [
    "The table has been created.  Now we add some values to it."
   ]
  },
  {
   "cell_type": "code",
   "execution_count": 10,
   "metadata": {},
   "outputs": [],
   "source": [
    "def insert(item, quantity, price):\n",
    "    conn = sqlite3.connect(\"lite.db\")\n",
    "    cur = conn.cursor()\n",
    "    #cur.execute(\"INSERT INTO store VALUES ('Wine Glass', 8, 10.5)\")\n",
    "    cur.execute(\"INSERT INTO store VALUES (?, ?, ?)\", (item, quantity, price))\n",
    "    conn.commit()\n",
    "    conn.close()\n",
    "    \n",
    "insert(\"Water Glass\", 10, 5)"
   ]
  },
  {
   "cell_type": "code",
   "execution_count": 11,
   "metadata": {},
   "outputs": [],
   "source": [
    "insert(\"Coffee Cup\", 10, 5)"
   ]
  },
  {
   "cell_type": "code",
   "execution_count": 12,
   "metadata": {},
   "outputs": [
    {
     "name": "stdout",
     "output_type": "stream",
     "text": [
      "[('Wine Glass', 8, 10.5), ('Water Glass', 10, 5.0), ('Coffee Cup', 10, 5.0)]\n"
     ]
    }
   ],
   "source": [
    "def view():\n",
    "    conn = sqlite3.connect(\"lite.db\")\n",
    "    cur = conn.cursor()\n",
    "    cur.execute(\"SELECT * FROM store\")\n",
    "    rows = cur.fetchall()\n",
    "    conn.close()\n",
    "    return rows\n",
    "\n",
    "print(view())"
   ]
  },
  {
   "cell_type": "code",
   "execution_count": 14,
   "metadata": {},
   "outputs": [
    {
     "name": "stdout",
     "output_type": "stream",
     "text": [
      "[('Water Glass', 10, 5.0), ('Coffee Cup', 10, 5.0)]\n"
     ]
    }
   ],
   "source": [
    "def delete(item):\n",
    "    conn = sqlite3.connect(\"lite.db\")\n",
    "    cur = conn.cursor()\n",
    "    # Notice that comma after item.  It is required!\n",
    "    cur.execute(\"DELETE FROM store WHERE item=?\", (item,))\n",
    "    conn.commit()\n",
    "    conn.close()\n",
    "\n",
    "delete(\"Wine Glass\")\n",
    "print(view())"
   ]
  },
  {
   "cell_type": "code",
   "execution_count": 16,
   "metadata": {},
   "outputs": [
    {
     "name": "stdout",
     "output_type": "stream",
     "text": [
      "[('Water Glass', 11, 6.0), ('Coffee Cup', 10, 5.0)]\n"
     ]
    }
   ],
   "source": [
    "def update(quantity, price, item):\n",
    "    conn = sqlite3.connect(\"lite.db\")\n",
    "    cur = conn.cursor()\n",
    "    # Notice that comma after item.  It is required!\n",
    "    cur.execute(\"UPDATE store SET quantity=?, price=? WHERE item=?\", (quantity, price, item))\n",
    "    conn.commit()\n",
    "    conn.close()\n",
    "    \n",
    "update(11, 6, \"Water Glass\")\n",
    "print(view())"
   ]
  },
  {
   "cell_type": "code",
   "execution_count": null,
   "metadata": {},
   "outputs": [],
   "source": []
  }
 ],
 "metadata": {
  "kernelspec": {
   "display_name": "Python 3",
   "language": "python",
   "name": "python3"
  },
  "language_info": {
   "codemirror_mode": {
    "name": "ipython",
    "version": 3
   },
   "file_extension": ".py",
   "mimetype": "text/x-python",
   "name": "python",
   "nbconvert_exporter": "python",
   "pygments_lexer": "ipython3",
   "version": "3.6.5"
  }
 },
 "nbformat": 4,
 "nbformat_minor": 2
}
